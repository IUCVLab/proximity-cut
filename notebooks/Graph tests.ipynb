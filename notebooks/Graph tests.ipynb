{
 "cells": [
  {
   "cell_type": "code",
   "execution_count": 1,
   "id": "1d4a342a",
   "metadata": {},
   "outputs": [],
   "source": [
    "import numpy as np"
   ]
  },
  {
   "cell_type": "code",
   "execution_count": 1,
   "id": "93798700",
   "metadata": {},
   "outputs": [
    {
     "name": "stdout",
     "output_type": "stream",
     "text": [
      "Collecting package metadata (current_repodata.json): ...working... done\n",
      "Solving environment: ...working... done\n",
      "\n",
      "# All requested packages already installed.\n",
      "\n"
     ]
    }
   ],
   "source": [
    "!conda install numba"
   ]
  },
  {
   "cell_type": "code",
   "execution_count": 7,
   "id": "218fae64",
   "metadata": {},
   "outputs": [
    {
     "name": "stderr",
     "output_type": "stream",
     "text": [
      "5it [00:07,  1.47s/it]\n"
     ]
    },
    {
     "data": {
      "image/png": "[encoded data removed]",
      "text/plain": [
       "<Figure size 432x288 with 1 Axes>"
      ]
     },
     "metadata": {
      "needs_background": "light"
     },
     "output_type": "display_data"
    }
   ],
   "source": [
    "from scipy.spatial import Delaunay\n",
    "import time, tqdm\n",
    "import matplotlib.pyplot as plt\n",
    "\n",
    "\n",
    "ds = [2, 3, 4, 5, 6]\n",
    "ss = [50, 100, 150, 200, 250, 300, 350]\n",
    "\n",
    "values = np.zeros((len(ds), len(ss)))\n",
    "\n",
    "for x, d in tqdm.tqdm(enumerate(ds)):\n",
    "    for y, i in enumerate(ss):\n",
    "        dataset = np.random.rand(i, d)\n",
    "        t = time.time()\n",
    "        tri = Delaunay(dataset)\n",
    "        t = time.time() - t\n",
    "        # print(i, d, t)\n",
    "        values[x, y] = t\n",
    "        \n",
    "\n",
    "plt.plot(ds, values[:, -1], label=\"350\")\n",
    "plt.plot(ds, values[:, -2], label=\"300\")\n",
    "plt.plot(ds, values[:, -3], label=\"250\")\n",
    "plt.plot(ds, values[:, -4], label=\"200\")\n",
    "plt.show()"
   ]
  },
  {
   "cell_type": "code",
   "execution_count": 12,
   "id": "1f536f46",
   "metadata": {},
   "outputs": [
    {
     "data": {
      "text/plain": [
       "array([[21., 12.,  0.,  0.],\n",
       "       [12., 21.,  0.,  0.],\n",
       "       [ 0.,  0.,  0.,  0.],\n",
       "       [ 0.,  0.,  0.,  0.]])"
      ]
     },
     "execution_count": 12,
     "metadata": {},
     "output_type": "execute_result"
    }
   ],
   "source": [
    "from scipy.spatial.distance import  pdist, squareform\n",
    "import numpy as np\n",
    "\n",
    "data = np.array([\n",
    "    [1, 2, 4.0],\n",
    "    [4, 2, 1.0],\n",
    "    [0, 0, 0],\n",
    "    [0, 0, 0]\n",
    "])\n",
    "data @ data.T\n"
   ]
  },
  {
   "cell_type": "markdown",
   "id": "262ebc0d",
   "metadata": {},
   "source": [
    "gamma-Observable Neighbour Graph\n",
    "https://stackoverflow.com/a/57890082 - based on this answer"
   ]
  },
  {
   "cell_type": "code",
   "execution_count": 2,
   "id": "c4101f64",
   "metadata": {},
   "outputs": [
    {
     "name": "stderr",
     "output_type": "stream",
     "text": [
      "  9%|▉         | 9/100 [00:00<00:01, 82.73it/s]"
     ]
    },
    {
     "name": "stdout",
     "output_type": "stream",
     "text": [
      "Numba time for 100 0.6453373432159424\n",
      "Graph (V, E) = (100, 2689)\n"
     ]
    },
    {
     "name": "stderr",
     "output_type": "stream",
     "text": [
      "100%|██████████| 100/100 [00:00<00:00, 123.93it/s]\n"
     ]
    },
    {
     "name": "stdout",
     "output_type": "stream",
     "text": [
      "Python time for 100 0.809906005859375\n",
      "Graph (V, E) = (100, 2689)\n",
      "Woooof 317.50949120521545\n",
      "Graph (V, E) = (5000, 1830238)\n"
     ]
    }
   ],
   "source": [
    "import numpy as np\n",
    "import networkx as nx\n",
    "import bisect\n",
    "from numba import jit\n",
    "from numba import typed, types\n",
    "import time\n",
    "import matplotlib.pyplot as plt\n",
    "\n",
    "import tqdm\n",
    "\n",
    "def get_complete(dataset):\n",
    "    dists = dataset @ dataset.T\n",
    "    n = np.linalg.norm(dataset, axis=1)\n",
    "    dists = 1 - (dists.T / n).T / n\n",
    "    graph = nx.Graph()\n",
    "    graph.add_nodes_from(range(len(dataset)))\n",
    "    for a in tqdm.tqdm(range(len(dataset))):\n",
    "        for b in range(a + 1, len(dataset)):\n",
    "            graph.add_edge(a, b, weight=dists[a, b])\n",
    "    return graph\n",
    "\n",
    "\n",
    "@jit\n",
    "def get_gabriel_numba(dists, result):\n",
    "    # result = typed.List()\n",
    "    for a in range(len(dists)):\n",
    "        for b in range(len(dists)):\n",
    "            if a == b: continue\n",
    "            ab = dists[a, b]\n",
    "            is_gabriel = True\n",
    "            for t in range(len(dists)):\n",
    "                if a == t or b == t:\n",
    "                    continue\n",
    "                at = dists[a, t]\n",
    "                tb = dists[t, b]\n",
    "                if (at ** 2 + tb ** 2)  < ab ** 2:\n",
    "                    is_gabriel = False\n",
    "                    break\n",
    "            if is_gabriel:\n",
    "                l = typed.List.empty_list(types.int64, 2)\n",
    "                l.append(a)\n",
    "                l.append(b)\n",
    "                result.append(l)\n",
    "    return result\n",
    "\n",
    "\n",
    "def get_gabriel_fast(dataset):\n",
    "    dists = dataset @ dataset.T\n",
    "    n = np.linalg.norm(dataset, axis=1)\n",
    "    dists = 1 - (dists.T / n).T / n\n",
    "    small = typed.List()\n",
    "    small.append(0)\n",
    "    result = typed.List()\n",
    "    result.append(small)\n",
    "    result.pop()\n",
    "    get_gabriel_numba(dists, result)\n",
    "    graph = nx.Graph()\n",
    "    graph.add_nodes_from(range(len(dataset)))\n",
    "    graph.add_weighted_edges_from([(kv[0], kv[1], dists[kv[0], kv[1]]) for kv in result])\n",
    "    return graph\n",
    "    \n",
    "\n",
    "def get_gabriel(dataset):\n",
    "    dists = dataset @ dataset.T\n",
    "    n = np.linalg.norm(dataset, axis=1)\n",
    "    dists = 1 - (dists.T / n).T / n\n",
    "    graph = nx.Graph()\n",
    "    graph.add_nodes_from(range(len(dataset)))\n",
    "    for a in tqdm.tqdm(range(len(dataset))):\n",
    "        dist_idx = np.argsort(dists[a, :])\n",
    "        for b in dist_idx:\n",
    "            if a == b:\n",
    "                continue\n",
    "            ab = dists[a, b]\n",
    "            first_greater = bisect.bisect_left(dists[a, dist_idx], ab)\n",
    "            is_gabriel = True\n",
    "            for t in dist_idx[:first_greater]:\n",
    "                if a == t or b == t:\n",
    "                    continue\n",
    "                at = dists[a, t]\n",
    "                tb = dists[t, b]\n",
    "                if (at ** 2 + tb ** 2)  < ab ** 2:\n",
    "                    is_gabriel = False\n",
    "                    break\n",
    "            if is_gabriel:\n",
    "                graph.add_edge(a, b, weight=ab)\n",
    "    \n",
    "    return graph\n",
    "\n",
    "\n",
    "# kernel dies after this number for numba implementation\n",
    "data = np.random.rand(10000, 52)\n",
    "\n",
    "# get_gabriel_fast(data[:10])\n",
    "# print(\"COMPILED!!!!\")\n",
    "# get_gabriel(data[:10])\n",
    "\n",
    "\n",
    "t = time.time()\n",
    "Gf = get_gabriel_fast(data[:100])\n",
    "t = time.time() - t\n",
    "print(\"Numba time for 100\", t)\n",
    "print(f\"Graph (V, E) = {len(Gf), len(Gf.edges)}\")\n",
    "\n",
    "\n",
    "t = time.time()\n",
    "Gp = get_gabriel(data[:100])\n",
    "t = time.time() - t\n",
    "print(\"Python time for 100\", t)\n",
    "print(f\"Graph (V, E) = {len(Gp), len(Gp.edges)}\")\n",
    "\n",
    "t = time.time()\n",
    "G = get_gabriel_fast(data)\n",
    "t = time.time() - t\n",
    "print(\"Woooof\", t)\n",
    "print(f\"Graph (V, E) = {len(G), len(G.edges)}\")"
   ]
  },
  {
   "cell_type": "code",
   "execution_count": 43,
   "id": "69235041",
   "metadata": {},
   "outputs": [],
   "source": [
    "def get_nng_from_gabriel(graph):\n",
    "    nng = nx.DiGraph()\n",
    "    nng.add_nodes_from(graph.nodes)\n",
    "    for node in graph.nodes:\n",
    "        m, i = None, None\n",
    "        for nn, w in graph[node].items():\n",
    "            if m is None or w['weight'] < m:\n",
    "                i = nn\n",
    "                m = w['weight']\n",
    "        nng.add_edge(node, i, weight=m)\n",
    "    return nng"
   ]
  },
  {
   "cell_type": "code",
   "execution_count": 67,
   "id": "be350406",
   "metadata": {},
   "outputs": [
    {
     "data": {
      "text/plain": [
       "999"
      ]
     },
     "execution_count": 67,
     "metadata": {},
     "output_type": "execute_result"
    }
   ],
   "source": [
    "GX = get_gabriel_fast(data[:1000]) \n",
    "\n",
    "def get_rng_from_gabriel(graph):\n",
    "    ''' \n",
    "    As RNG is a subset of a Gabriel graph, thus we can construct one of \n",
    "    another by examining existing neighbourhoods: we test existing edge ends\n",
    "    for having a shared neighbour with smaller distance\n",
    "    '''\n",
    "    rng = nx.Graph()\n",
    "    rng.add_nodes_from(graph.nodes)\n",
    "    for src, dst, w in graph.edges.data(\"weight\", default=None):\n",
    "        intersect = set.intersection(set(graph.neighbors(src)), set(graph.neighbors(dst)))\n",
    "        keep = True\n",
    "        for transit in intersect:\n",
    "            if w > graph[src][transit]['weight'] and w > graph[dst][transit]['weight']:\n",
    "                keep = False\n",
    "                break\n",
    "        if keep:\n",
    "            rng.add_edge(src, dst, weight=w)\n",
    "    return rng\n",
    "len(get_emst(get_rng_from_gabriel(GX)).edges)"
   ]
  },
  {
   "cell_type": "code",
   "execution_count": 12,
   "id": "9f3c5d7d",
   "metadata": {},
   "outputs": [
    {
     "name": "stdout",
     "output_type": "stream",
     "text": [
      "Graph (V, E) = (1000, 136639)\n",
      "Gabriel cut 68411\n",
      "EMST size 999\n",
      "EMST cut 499\n"
     ]
    }
   ],
   "source": [
    "import networkx as nx\n",
    "\n",
    "labels = [0, 1] * (len(G) // 2) \n",
    "\n",
    "G = get_gabriel_fast(data[:1000]) \n",
    "print(f\"Graph (V, E) = {len(Gf), len(Gf.edges)}\")\n",
    "\n",
    "def get_cut(graph, labels):\n",
    "    return [e for e in graph.edges.data(\"weight\", default=None) if labels[e[0]] != labels[e[1]]]\n",
    "\n",
    "def get_emst(graph):\n",
    "    emst = nx.minimum_spanning_tree(graph)\n",
    "    return emst\n",
    "\n",
    "cut = get_cut(G, labels)\n",
    "print(\"Gabriel cut\", len(cut))\n",
    "EMST = get_emst(G)\n",
    "print(f\"EMST size {len(EMST.edges)}\")\n",
    "cut = get_cut(EMST, labels)\n",
    "print(\"EMST cut\", len(cut))"
   ]
  }
 ],
 "metadata": {
  "kernelspec": {
   "display_name": "Python 3",
   "language": "python",
   "name": "python3"
  },
  "language_info": {
   "codemirror_mode": {
    "name": "ipython",
    "version": 3
   },
   "file_extension": ".py",
   "mimetype": "text/x-python",
   "name": "python",
   "nbconvert_exporter": "python",
   "pygments_lexer": "ipython3",
   "version": "3.8.3"
  }
 },
 "nbformat": 4,
 "nbformat_minor": 5
}
