{
 "cells": [
  {
   "cell_type": "code",
   "execution_count": 2,
   "id": "27abfde3",
   "metadata": {},
   "outputs": [],
   "source": [
    "import numpy as np"
   ]
  },
  {
   "cell_type": "code",
   "execution_count": null,
   "id": "a017cb54",
   "metadata": {},
   "outputs": [
    {
     "name": "stdout",
     "output_type": "stream",
     "text": [
      "100 5 0.05619049072265625\n",
      "200 5 0.18735527992248535\n",
      "500 5 0.795891284942627\n",
      "100 6 0.29929089546203613\n",
      "200 6 1.193056344985962\n",
      "500 6 5.092738389968872\n",
      "100 7 1.4879753589630127\n",
      "200 7 7.54082989692688\n",
      "500 7 48.17451882362366\n",
      "100 8 7.500083923339844\n",
      "200 8 39.789979219436646\n",
      "500 8 282.7473111152649\n",
      "100 9 31.47176766395569\n",
      "200 9 246.07852029800415\n"
     ]
    }
   ],
   "source": [
    "from scipy.spatial import Delaunay\n",
    "import time\n",
    "\n",
    "for d in [5, 6, 7, 8, 9, 10]:\n",
    "    for i in [100, 200, 500]:\n",
    "        dataset = np.random.rand(i, d)\n",
    "        t = time.time()\n",
    "        tri = Delaunay(dataset)\n",
    "        t = time.time() - t\n",
    "        print(i, d, t)"
   ]
  },
  {
   "cell_type": "code",
   "execution_count": null,
   "id": "410d43ed",
   "metadata": {},
   "outputs": [],
   "source": [
    "import pandas as pd\n",
    "import numpy as np\n",
    "import networkx as nx\n",
    "from scipy.spatial.distance import  pdist, squareform\n",
    "import bisect\n",
    "\n",
    "def get_gong(df, y=0.5):\n",
    "    # df is a pandas dataframe who has x and y as columns\n",
    "    # y is the gamma parameter \n",
    "    graph = nx.DiGraph() \n",
    "    graph.add_nodes_from(df.iterrows())\n",
    "    dists = pdist(df[['x','y']]) \n",
    "        dists = squareform(dists)\n",
    "    y_dists = (1-y)*dists\n",
    "\n",
    "    for node_a, row_a in df.iterrows():\n",
    "        node_a_coord = list(row_a[:2]) # O(dn)\n",
    "        dist_idx = np.argsort(dists[node_a]) # O(nlog n)\n",
    "        for node_b in dist_idx:\n",
    "            if node_a == node_b:\n",
    "                continue\n",
    "\n",
    "            node_b_coord = list(df.loc[node_b, ['x','y']])\n",
    "\n",
    "            d_i = y_dists[node_a][node_b]\n",
    "            first_greater = bisect.bisect_left(dists[node_a][dist_idx], d_i)\n",
    "\n",
    "            b_is_GONG = True\n",
    "\n",
    "            for node_j in dist_idx[:first_greater]:\n",
    "                if node_a == node_j:\n",
    "                    continue\n",
    "\n",
    "                d_j = y_dists[node_a][node_j]\n",
    "\n",
    "                if d_j < d_i:\n",
    "                    b_is_GONG = False\n",
    "                    break # node_j could be a GONG\n",
    "\n",
    "            if b_is_GONG:\n",
    "                graph.add_edge(node_a, node_b, weight = dists[node_a][node_b])\n",
    "    return graph"
   ]
  }
 ],
 "metadata": {
  "kernelspec": {
   "display_name": "Python 3",
   "language": "python",
   "name": "python3"
  },
  "language_info": {
   "codemirror_mode": {
    "name": "ipython",
    "version": 3
   },
   "file_extension": ".py",
   "mimetype": "text/x-python",
   "name": "python",
   "nbconvert_exporter": "python",
   "pygments_lexer": "ipython3",
   "version": "3.8.3"
  }
 },
 "nbformat": 4,
 "nbformat_minor": 5
}
