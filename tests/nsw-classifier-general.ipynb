{
 "cells": [
  {
   "cell_type": "code",
   "execution_count": 1,
   "metadata": {},
   "outputs": [],
   "source": [
    "import sys, os\n",
    "sys.path.append('../modules')\n",
    "from nsw.nsw_classifier import NSWClassifier\n",
    "from nsw.data_gen import gen_kd"
   ]
  },
  {
   "cell_type": "markdown",
   "metadata": {},
   "source": [
    "# 1. Building a cut"
   ]
  },
  {
   "cell_type": "code",
   "execution_count": 2,
   "metadata": {},
   "outputs": [
    {
     "name": "stdout",
     "output_type": "stream",
     "text": [
      "Classifer process. Data dimensionality detected is 2. regularity = 6\n"
     ]
    },
    {
     "data": {
      "text/plain": [
       "{(2, 0), (2, 1), (3, 0), (3, 1), (4, 0), (4, 1)}"
      ]
     },
     "execution_count": 2,
     "metadata": {},
     "output_type": "execute_result"
    }
   ],
   "source": [
    "C = NSWClassifier()\n",
    "C.build_navigable_graph([([1, 2], 3), ([1.2, 2], 3), ((3, 4), 5), ((4, 4), 5), ((6, 4), 5)])\n",
    "C.cut"
   ]
  },
  {
   "cell_type": "markdown",
   "metadata": {},
   "source": [
    "# 2. Classification works"
   ]
  },
  {
   "cell_type": "code",
   "execution_count": 3,
   "metadata": {},
   "outputs": [
    {
     "name": "stdout",
     "output_type": "stream",
     "text": [
      "Class = 3, Fuzzy Classes = {(3, 1.0)}\n"
     ]
    }
   ],
   "source": [
    "c = C.classify_by_path([1.1, 2.2], attempts=17)\n",
    "fc = C.classify_fuzzy_by_path([1.1, 2.2], attempts=11)\n",
    "\n",
    "print(f\"Class = {c}, Fuzzy Classes = {fc}\")"
   ]
  },
  {
   "cell_type": "markdown",
   "metadata": {},
   "source": [
    "# 3. Different classification types"
   ]
  },
  {
   "cell_type": "code",
   "execution_count": 4,
   "metadata": {},
   "outputs": [
    {
     "name": "stdout",
     "output_type": "stream",
     "text": [
      "3\n",
      "3\n",
      "[1, 0, 2, 3, 4]\n",
      "{(3, 0.4), (5, 0.6)}\n"
     ]
    }
   ],
   "source": [
    "print(C.classify_knn([1.1, 2.2], attempts=11, k=1))\n",
    "print(C.classify_knn([1.1, 2.2], attempts=11, k=3))\n",
    "print(C.classify_fuzzy_knn([1.1, 2.2], attempts=11, k=5))"
   ]
  },
  {
   "cell_type": "markdown",
   "metadata": {},
   "source": [
    "# 4. Cut size estimation"
   ]
  },
  {
   "cell_type": "code",
   "execution_count": 6,
   "metadata": {},
   "outputs": [
    {
     "name": "stdout",
     "output_type": "stream",
     "text": [
      "Classifer process. Data dimensionality detected is 2. regularity = 6\n",
      "Nodes = 1000, Edges = 5979, Cut = 260\n",
      "Classifer process. Data dimensionality detected is 2. regularity = 6\n",
      "Nodes = 1000, Edges = 5979, Cut = 263\n",
      "Classifer process. Data dimensionality detected is 2. regularity = 6\n",
      "Nodes = 1000, Edges = 5979, Cut = 263\n",
      "Classifer process. Data dimensionality detected is 2. regularity = 6\n",
      "Nodes = 1000, Edges = 5979, Cut = 262\n",
      "Classifer process. Data dimensionality detected is 2. regularity = 6\n",
      "Nodes = 2000, Edges = 11979, Cut = 415\n",
      "Classifer process. Data dimensionality detected is 2. regularity = 6\n",
      "Nodes = 2000, Edges = 11979, Cut = 424\n",
      "Classifer process. Data dimensionality detected is 2. regularity = 6\n",
      "Nodes = 2000, Edges = 11979, Cut = 418\n",
      "Classifer process. Data dimensionality detected is 2. regularity = 6\n",
      "Nodes = 2000, Edges = 11979, Cut = 417\n",
      "Classifer process. Data dimensionality detected is 2. regularity = 6\n",
      "Nodes = 3000, Edges = 17979, Cut = 448\n",
      "Classifer process. Data dimensionality detected is 2. regularity = 6\n",
      "Nodes = 3000, Edges = 17979, Cut = 445\n",
      "Classifer process. Data dimensionality detected is 2. regularity = 6\n",
      "Nodes = 3000, Edges = 17979, Cut = 448\n",
      "Classifer process. Data dimensionality detected is 2. regularity = 6\n",
      "Nodes = 3000, Edges = 17979, Cut = 448\n",
      "Classifer process. Data dimensionality detected is 2. regularity = 6\n",
      "Nodes = 4000, Edges = 23979, Cut = 644\n",
      "Classifer process. Data dimensionality detected is 2. regularity = 6\n",
      "Nodes = 4000, Edges = 23979, Cut = 648\n",
      "Classifer process. Data dimensionality detected is 2. regularity = 6\n",
      "Nodes = 4000, Edges = 23979, Cut = 678\n",
      "Classifer process. Data dimensionality detected is 2. regularity = 6\n",
      "Nodes = 4000, Edges = 23979, Cut = 649\n",
      "Classifer process. Data dimensionality detected is 3. regularity = 9\n",
      "Nodes = 1000, Edges = 8955, Cut = 377\n",
      "Classifer process. Data dimensionality detected is 3. regularity = 9\n",
      "Nodes = 1000, Edges = 8955, Cut = 377\n",
      "Classifer process. Data dimensionality detected is 3. regularity = 9\n",
      "Nodes = 1000, Edges = 8955, Cut = 377\n",
      "Classifer process. Data dimensionality detected is 3. regularity = 9\n",
      "Nodes = 1000, Edges = 8955, Cut = 377\n",
      "Classifer process. Data dimensionality detected is 3. regularity = 9\n",
      "Nodes = 2000, Edges = 17955, Cut = 581\n",
      "Classifer process. Data dimensionality detected is 3. regularity = 9\n",
      "Nodes = 2000, Edges = 17955, Cut = 578\n",
      "Classifer process. Data dimensionality detected is 3. regularity = 9\n",
      "Nodes = 2000, Edges = 17955, Cut = 580\n",
      "Classifer process. Data dimensionality detected is 3. regularity = 9\n",
      "Nodes = 2000, Edges = 17955, Cut = 583\n",
      "Classifer process. Data dimensionality detected is 3. regularity = 9\n",
      "Nodes = 3000, Edges = 26955, Cut = 865\n",
      "Classifer process. Data dimensionality detected is 3. regularity = 9\n",
      "Nodes = 3000, Edges = 26955, Cut = 865\n",
      "Classifer process. Data dimensionality detected is 3. regularity = 9\n",
      "Nodes = 3000, Edges = 26955, Cut = 864\n",
      "Classifer process. Data dimensionality detected is 3. regularity = 9\n",
      "Nodes = 3000, Edges = 26955, Cut = 864\n",
      "Classifer process. Data dimensionality detected is 3. regularity = 9\n",
      "Nodes = 4000, Edges = 35955, Cut = 1016\n",
      "Classifer process. Data dimensionality detected is 3. regularity = 9\n",
      "Nodes = 4000, Edges = 35955, Cut = 1018\n",
      "Classifer process. Data dimensionality detected is 3. regularity = 9\n",
      "Nodes = 4000, Edges = 35955, Cut = 1020\n",
      "Classifer process. Data dimensionality detected is 3. regularity = 9\n",
      "Nodes = 4000, Edges = 35955, Cut = 1016\n",
      "Classifer process. Data dimensionality detected is 5. regularity = 15\n",
      "Nodes = 1000, Edges = 14880, Cut = 109\n",
      "Classifer process. Data dimensionality detected is 5. regularity = 15\n",
      "Nodes = 1000, Edges = 14880, Cut = 109\n",
      "Classifer process. Data dimensionality detected is 5. regularity = 15\n",
      "Nodes = 1000, Edges = 14880, Cut = 109\n",
      "Classifer process. Data dimensionality detected is 5. regularity = 15\n",
      "Nodes = 1000, Edges = 14880, Cut = 109\n",
      "Classifer process. Data dimensionality detected is 5. regularity = 15\n",
      "Nodes = 2000, Edges = 29880, Cut = 114\n",
      "Classifer process. Data dimensionality detected is 5. regularity = 15\n",
      "Nodes = 2000, Edges = 29880, Cut = 114\n",
      "Classifer process. Data dimensionality detected is 5. regularity = 15\n",
      "Nodes = 2000, Edges = 29880, Cut = 114\n",
      "Classifer process. Data dimensionality detected is 5. regularity = 15\n",
      "Nodes = 2000, Edges = 29880, Cut = 114\n",
      "Classifer process. Data dimensionality detected is 5. regularity = 15\n",
      "Nodes = 3000, Edges = 44880, Cut = 162\n",
      "Classifer process. Data dimensionality detected is 5. regularity = 15\n",
      "Nodes = 3000, Edges = 44880, Cut = 162\n",
      "Classifer process. Data dimensionality detected is 5. regularity = 15\n",
      "Nodes = 3000, Edges = 44880, Cut = 162\n",
      "Classifer process. Data dimensionality detected is 5. regularity = 15\n",
      "Nodes = 3000, Edges = 44880, Cut = 162\n",
      "Classifer process. Data dimensionality detected is 5. regularity = 15\n",
      "Nodes = 4000, Edges = 59880, Cut = 237\n",
      "Classifer process. Data dimensionality detected is 5. regularity = 15\n",
      "Nodes = 4000, Edges = 59880, Cut = 237\n",
      "Classifer process. Data dimensionality detected is 5. regularity = 15\n",
      "Nodes = 4000, Edges = 59880, Cut = 237\n",
      "Classifer process. Data dimensionality detected is 5. regularity = 15\n",
      "Nodes = 4000, Edges = 59880, Cut = 237\n",
      "Classifer process. Data dimensionality detected is 10. regularity = 30\n",
      "Nodes = 1000, Edges = 29535, Cut = 0\n",
      "Classifer process. Data dimensionality detected is 10. regularity = 30\n",
      "Nodes = 1000, Edges = 29535, Cut = 0\n",
      "Classifer process. Data dimensionality detected is 10. regularity = 30\n",
      "Nodes = 1000, Edges = 29535, Cut = 0\n",
      "Classifer process. Data dimensionality detected is 10. regularity = 30\n",
      "Nodes = 1000, Edges = 29535, Cut = 0\n",
      "Classifer process. Data dimensionality detected is 10. regularity = 30\n",
      "Nodes = 2000, Edges = 59535, Cut = 0\n",
      "Classifer process. Data dimensionality detected is 10. regularity = 30\n",
      "Nodes = 2000, Edges = 59535, Cut = 0\n",
      "Classifer process. Data dimensionality detected is 10. regularity = 30\n",
      "Nodes = 2000, Edges = 59535, Cut = 0\n",
      "Classifer process. Data dimensionality detected is 10. regularity = 30\n",
      "Nodes = 2000, Edges = 59535, Cut = 0\n",
      "Classifer process. Data dimensionality detected is 10. regularity = 30\n",
      "Nodes = 3000, Edges = 89535, Cut = 0\n",
      "Classifer process. Data dimensionality detected is 10. regularity = 30\n",
      "Nodes = 3000, Edges = 89535, Cut = 0\n",
      "Classifer process. Data dimensionality detected is 10. regularity = 30\n",
      "Nodes = 3000, Edges = 89535, Cut = 0\n",
      "Classifer process. Data dimensionality detected is 10. regularity = 30\n",
      "Nodes = 3000, Edges = 89535, Cut = 0\n",
      "Classifer process. Data dimensionality detected is 10. regularity = 30\n",
      "Nodes = 4000, Edges = 119535, Cut = 0\n",
      "Classifer process. Data dimensionality detected is 10. regularity = 30\n",
      "Nodes = 4000, Edges = 119535, Cut = 0\n",
      "Classifer process. Data dimensionality detected is 10. regularity = 30\n",
      "Nodes = 4000, Edges = 119535, Cut = 0\n",
      "Classifer process. Data dimensionality detected is 10. regularity = 30\n",
      "Nodes = 4000, Edges = 119535, Cut = 0\n"
     ]
    }
   ],
   "source": [
    "sizes = [1000, 2000, 3000, 4000]\n",
    "attempts = [1, 5, 10, 20]\n",
    "dims = [2, 3, 5, 10]\n",
    "\n",
    "for dim in dims:\n",
    "    for size in sizes:\n",
    "        data = gen_kd(N=size, k=dim, border = (1 / dim) ** .5)\n",
    "        for att in attempts:\n",
    "            C = NSWClassifier()\n",
    "            C.build_navigable_graph(data, attempts=att)\n",
    "            edges = sum(len(node.neighbourhood) for node in C.nodes) // 2\n",
    "            print(f\"Nodes = {len(C.nodes)}, Edges = {edges}, Cut = {len(C.cut)}\")"
   ]
  }
 ],
 "metadata": {
  "kernelspec": {
   "display_name": "Python 3",
   "language": "python",
   "name": "python3"
  },
  "language_info": {
   "codemirror_mode": {
    "name": "ipython",
    "version": 3
   },
   "file_extension": ".py",
   "mimetype": "text/x-python",
   "name": "python",
   "nbconvert_exporter": "python",
   "pygments_lexer": "ipython3",
   "version": "3.7.4"
  }
 },
 "nbformat": 4,
 "nbformat_minor": 4
}
