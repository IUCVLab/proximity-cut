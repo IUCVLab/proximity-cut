{
 "cells": [
  {
   "cell_type": "code",
   "execution_count": 1,
   "metadata": {},
   "outputs": [],
   "source": [
    "import sys, os\n",
    "sys.path.append('../modules')\n",
    "from nsw_classifier import NSWClassifier"
   ]
  },
  {
   "cell_type": "code",
   "execution_count": 4,
   "metadata": {},
   "outputs": [
    {
     "name": "stdout",
     "output_type": "stream",
     "text": [
      "Classifer process. Data dimensionality detected is 2. regularity = 6\n"
     ]
    },
    {
     "data": {
      "text/plain": [
       "{(2, 0), (2, 1), (3, 0), (3, 1), (4, 1)}"
      ]
     },
     "execution_count": 4,
     "metadata": {},
     "output_type": "execute_result"
    }
   ],
   "source": [
    "C = NSWClassifier()\n",
    "C.build_navigable_graph([([1, 2], 3), ([1.2, 2], 3), ((3, 4), 5), ((4, 4), 5), ((6, 4), 5)])\n",
    "C.cut"
   ]
  },
  {
   "cell_type": "code",
   "execution_count": 18,
   "metadata": {},
   "outputs": [
    {
     "name": "stdout",
     "output_type": "stream",
     "text": [
      "Class = 5, Fuzzy Classes = {(3, 0.4117647058823529), (5, 0.5882352941176471)}\n"
     ]
    }
   ],
   "source": [
    "c = C.classify_by_path([1.1, 2.2], attempts=17)\n",
    "fc = C.classify_fuzzy_by_path([1.1, 2.2], attempts=17)\n",
    "\n",
    "print(f\"Class = {c}, Fuzzy Classes = {fc}\")"
   ]
  }
 ],
 "metadata": {
  "kernelspec": {
   "display_name": "Python 3",
   "language": "python",
   "name": "python3"
  },
  "language_info": {
   "codemirror_mode": {
    "name": "ipython",
    "version": 3
   },
   "file_extension": ".py",
   "mimetype": "text/x-python",
   "name": "python",
   "nbconvert_exporter": "python",
   "pygments_lexer": "ipython3",
   "version": "3.7.4"
  }
 },
 "nbformat": 4,
 "nbformat_minor": 4
}
