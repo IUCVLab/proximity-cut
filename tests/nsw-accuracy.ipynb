{
 "cells": [
  {
   "cell_type": "code",
   "execution_count": 1,
   "metadata": {},
   "outputs": [],
   "source": [
    "import sys\n",
    "sys.path.append('../modules')\n",
    "from nsw import Node, NSWGraph\n",
    "import data_gen as dg"
   ]
  },
  {
   "cell_type": "code",
   "execution_count": null,
   "metadata": {},
   "outputs": [
    {
     "name": "stdout",
     "output_type": "stream",
     "text": [
      "Dataset for 10000 samples with 2 dimensions generated\n",
      "Ground truth is generated\n",
      "Graph [K=5, Repeat=1] is generated in 17.50 sec.\n",
      "top 10 ~ 0.00%\n",
      "top 100 ~ 0.21%\n",
      "top 1000 ~ 0.20%\n",
      "Graph [K=10, Repeat=1] is generated in 43.75 sec.\n",
      "top 10 ~ 0.00%\n",
      "top 100 ~ 0.36%\n",
      "top 1000 ~ 0.58%\n",
      "Graph [K=47, Repeat=1] is generated in 179.04 sec.\n",
      "top 10 ~ 0.20%\n",
      "top 100 ~ 0.31%\n",
      "top 1000 ~ 3.38%\n",
      "Graph [K=5, Repeat=5] is generated in 213.43 sec.\n",
      "top 10 ~ 0.20%\n",
      "top 100 ~ 0.21%\n",
      "top 1000 ~ 2.21%\n"
     ]
    }
   ],
   "source": [
    "import time\n",
    "import math\n",
    "import numpy as np\n",
    "\n",
    "grid = {\n",
    "    \"size\": [10000, 100000],\n",
    "    \"dim\": [2, 5, 10, 50, 100],\n",
    "    \"regularity_ratio\": [0.5, 1, 5],\n",
    "    \"multisearch\": [1, 5, 10, 20],\n",
    "    \"top\": [10, 100, 1000]\n",
    "}\n",
    "\n",
    "test_size = 100\n",
    "\n",
    "times_build = {}\n",
    "times_search = {}\n",
    "accuracy = {}\n",
    "\n",
    "for dim in grid[\"dim\"]:\n",
    "    for size in grid[\"size\"]:\n",
    "        data = np.random.rand(size, dim)\n",
    "        test = np.random.rand(test_size, dim)\n",
    "        print(f\"Dataset for {size} samples with {dim} dimensions generated\")\n",
    "        dist = data @ test.T\n",
    "        \n",
    "        # for each test sample\n",
    "        closest = []\n",
    "        for i in range(test.shape[0]):\n",
    "            cl = np.argpartition(dist[:, i], max(grid[\"top\"])).tolist()\n",
    "            closest.append(cl)\n",
    "        print(\"Ground truth is generated\")\n",
    "        \n",
    "        for multisearch in grid[\"multisearch\"]:\n",
    "            for regularity_ratio in grid[\"regularity_ratio\"]:\n",
    "                regularity = math.ceil(math.log(size) * regularity_ratio)\n",
    "                # TODO: i\n",
    "                data_with_classes = list((row, 0) for row in data)\n",
    "                tpl = (dim, size, regularity, multisearch) \n",
    "                start = time.time()\n",
    "                G = NSWGraph()\n",
    "                G.build_navigable_graph(data_with_classes,  K=regularity, attempts=multisearch)\n",
    "                fin = time.time()\n",
    "                t = fin - start\n",
    "                print(f\"Graph [K={regularity}, Repeat={multisearch}] is generated in {t:.2f} sec.\")\n",
    "                times_build[tpl] = t\n",
    "                \n",
    "                for top in grid[\"top\"]:\n",
    "                    tpl = (dim, size, regularity, multisearch, top)                 \n",
    "                    match, total = 0, 0\n",
    "                    for i, row in enumerate(test):\n",
    "                        start += time.time()\n",
    "                        result = G.multi_search(row, attempts=multisearch, top=top)\n",
    "                        fin += time.time()\n",
    "                        result = set(result)\n",
    "                        match += len(result.intersection(closest[i][:top]))\n",
    "                        total += top\n",
    "                    accuracy[tpl] = (match, total)\n",
    "                    print(f'top {top} ~ {100 * accuracy[tpl][0] / accuracy[tpl][1]:.2f}%')\n",
    "                    times_search[tpl] = (fin - start) / test.shape[0] "
   ]
  }
 ],
 "metadata": {
  "kernelspec": {
   "display_name": "Python 3",
   "language": "python",
   "name": "python3"
  },
  "language_info": {
   "codemirror_mode": {
    "name": "ipython",
    "version": 3
   },
   "file_extension": ".py",
   "mimetype": "text/x-python",
   "name": "python",
   "nbconvert_exporter": "python",
   "pygments_lexer": "ipython3",
   "version": "3.7.4"
  }
 },
 "nbformat": 4,
 "nbformat_minor": 4
}
