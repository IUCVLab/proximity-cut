{
 "cells": [
  {
   "cell_type": "markdown",
   "metadata": {},
   "source": [
    "# considered datasets\n",
    "\n",
    "https://www.openml.org/d/1388 -- oversampled https://archive.ics.uci.edu/ml/datasets/Audiology+%28Original%29 32K\n",
    "\n",
    "https://archive.ics.uci.edu/ml/datasets/adult - 50K census dataset for income prediction\n",
    "\n",
    "https://www.openml.org/d/40517 - binary classification task with 1-hot encoding of vocabulary; https://scikit-learn.org/0.19/datasets/twenty_newsgroups.html and http://qwone.com/~jason/20Newsgroups/ - 18K and 399940 in openML\n",
    "\n",
    "https://archive.ics.uci.edu/ml/datasets/covertype - multiclass and covtype.binary https://www.csie.ntu.edu.tw/~cjlin/libsvmtools/datasets/binary.html - 500K 54F dataset\n",
    "\n",
    "\n",
    "https://pypi.org/project/wikidump/ !- for wikidata\n",
    "\n",
    "\n",
    "https://archive.ics.uci.edu/ml/datasets/HIGGS# -- 11M 27F numeric features HIGGS detector data\n",
    "\n",
    "https://archive.ics.uci.edu/ml/datasets/SUSY - 5M 18F astronomy\n",
    "\n",
    "https://www.csie.ntu.edu.tw/~cjlin/libsvmtools/datasets/multiclass.html#mnist8m -- 8M 784F mnist 10Classes"
   ]
  },
  {
   "cell_type": "code",
   "execution_count": 1,
   "metadata": {},
   "outputs": [],
   "source": [
    "import sys\n",
    "sys.path.append('../modules')\n",
    "from tools.analysis import analyze_classifier\n",
    "from nsw.nsw_classifier import NSWClassifier\n",
    "from tools import datasets"
   ]
  },
  {
   "cell_type": "code",
   "execution_count": 2,
   "metadata": {},
   "outputs": [],
   "source": [
    "train_mnist, test_mnist = datasets.get_mnist()\n",
    "minst_classifier = NSWClassifier()\n",
    "# minst_classifier.build_navigable_graph(train_mnist, attempts=5)"
   ]
  },
  {
   "cell_type": "code",
   "execution_count": 3,
   "metadata": {},
   "outputs": [],
   "source": [
    "# analyze_classifier(lambda x: minst_classifier.classify_by_path(x, attempts=1), test_mnist, 'MNIST', iterations=10)"
   ]
  },
  {
   "cell_type": "code",
   "execution_count": 4,
   "metadata": {},
   "outputs": [],
   "source": [
    "leavesdataset = datasets.load_100leaves_from_drive('../data/100leaves')\n",
    "train_mar, test_mar = leavesdataset['Mar']\n",
    "train_tex, test_tex = leavesdataset['Tex']\n",
    "train_sha, test_sha = leavesdataset['Sha']\n",
    "\n",
    "datasets.write_dataset(train_mar + test_mar, '../data/100leaves/mar.txt')\n",
    "datasets.write_dataset(train_tex + test_tex, '../data/100leaves/tex.txt')\n",
    "datasets.write_dataset(train_sha + test_sha, '../data/100leaves/sha.txt')\n",
    "\n",
    "# leaves_classifier = NSWClassifier()\n",
    "# leaves_classifier.build_navigable_graph(train_mar, attempts=5)\n",
    "# analyze_classifier(lambda x: leaves_classifier.classify_by_path(x, attempts=1), test_mar, 'LEAVES', iterations=10)"
   ]
  },
  {
   "cell_type": "markdown",
   "metadata": {},
   "source": [
    "# Download datasets"
   ]
  },
  {
   "cell_type": "code",
   "execution_count": 5,
   "metadata": {},
   "outputs": [
    {
     "data": {
      "text/plain": [
       "'\"C:/Program Files/7-Zip/7z.exe\" e -o\"../data/covtype\" \"C:\\\\dev\\\\proximity-cut\\\\data\\\\covtype\\\\covtype.binary.scale.bz2\"'"
      ]
     },
     "execution_count": 5,
     "metadata": {},
     "output_type": "execute_result"
    }
   ],
   "source": [
    "datasets.download_covtype_binary()"
   ]
  },
  {
   "cell_type": "code",
   "execution_count": 6,
   "metadata": {},
   "outputs": [
    {
     "data": {
      "text/plain": [
       "'\"C:/Program Files/7-Zip/7z.exe\" e -o\"../data/susy\" \"C:\\\\dev\\\\proximity-cut\\\\data\\\\susy\\\\SUSY.bz2\"'"
      ]
     },
     "execution_count": 6,
     "metadata": {},
     "output_type": "execute_result"
    }
   ],
   "source": [
    "datasets.download_susy()"
   ]
  },
  {
   "cell_type": "code",
   "execution_count": 7,
   "metadata": {},
   "outputs": [
    {
     "data": {
      "text/plain": [
       "'\"C:/Program Files/7-Zip/7z.exe\" e -o\"../data/higgs\" \"C:\\\\dev\\\\proximity-cut\\\\data\\\\higgs\\\\HIGGS.bz2\"'"
      ]
     },
     "execution_count": 7,
     "metadata": {},
     "output_type": "execute_result"
    }
   ],
   "source": [
    "datasets.download_higgs()"
   ]
  }
 ],
 "metadata": {
  "kernelspec": {
   "display_name": "Python 3",
   "language": "python",
   "name": "python3"
  },
  "language_info": {
   "codemirror_mode": {
    "name": "ipython",
    "version": 3
   },
   "file_extension": ".py",
   "mimetype": "text/x-python",
   "name": "python",
   "nbconvert_exporter": "python",
   "pygments_lexer": "ipython3",
   "version": "3.8.5"
  }
 },
 "nbformat": 4,
 "nbformat_minor": 4
}
