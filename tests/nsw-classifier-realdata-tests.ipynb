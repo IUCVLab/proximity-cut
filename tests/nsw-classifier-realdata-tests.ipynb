{
 "cells": [
  {
   "cell_type": "markdown",
   "metadata": {},
   "source": [
    "# considered datasets\n",
    "\n",
    "https://www.openml.org/d/1388 -- oversampled https://archive.ics.uci.edu/ml/datasets/Audiology+%28Original%29 32K\n",
    "\n",
    "https://archive.ics.uci.edu/ml/datasets/adult - 50K census dataset for income prediction\n",
    "\n",
    "https://www.openml.org/d/40517 - binary classification task with 1-hot encoding of vocabulary; https://scikit-learn.org/0.19/datasets/twenty_newsgroups.html and http://qwone.com/~jason/20Newsgroups/ - 18K and 399940 in openML\n",
    "\n",
    "https://archive.ics.uci.edu/ml/datasets/covertype - multiclass and covtype.binary https://www.csie.ntu.edu.tw/~cjlin/libsvmtools/datasets/binary.html - 500K 54F dataset\n",
    "\n",
    "\n",
    "https://pypi.org/project/wikidump/ !- for wikidata\n",
    "\n",
    "\n",
    "https://archive.ics.uci.edu/ml/datasets/HIGGS# -- 11M 27F numeric features HIGGS detector data\n",
    "\n",
    "https://archive.ics.uci.edu/ml/datasets/SUSY - 5M 18F astronomy\n",
    "\n",
    "https://www.csie.ntu.edu.tw/~cjlin/libsvmtools/datasets/multiclass.html#mnist8m -- 8M 784F mnist 10Classes"
   ]
  },
  {
   "cell_type": "code",
   "execution_count": 1,
   "metadata": {},
   "outputs": [],
   "source": [
    "import sys\n",
    "sys.path.append('../modules')\n",
    "from tools.analysis import analyze_classifier\n",
    "from nsw.nsw_classifier import NSWClassifier\n",
    "from tools import datasets"
   ]
  },
  {
   "cell_type": "code",
   "execution_count": 2,
   "metadata": {},
   "outputs": [
    {
     "name": "stdout",
     "output_type": "stream",
     "text": [
      "Classifier graph is build in 59.664s\n"
     ]
    }
   ],
   "source": [
    "train_mnist, test_mnist = datasets.get_mnist()\n",
    "minst_classifier = NSWClassifier()\n",
    "minst_classifier.build_navigable_graph(train_mnist, attempts=5)"
   ]
  },
  {
   "cell_type": "code",
   "execution_count": 3,
   "metadata": {},
   "outputs": [
    {
     "name": "stdout",
     "output_type": "stream",
     "text": [
      "iteration 0\n",
      "MNIST, 179/180, time 5.309\n",
      "iteration 1\n",
      "MNIST, 358/360, time 4.385\n",
      "iteration 2\n",
      "MNIST, 537/540, time 3.932\n",
      "iteration 3\n",
      "MNIST, 716/720, time 3.913\n",
      "iteration 4\n",
      "MNIST, 895/900, time 4.187\n",
      "iteration 5\n",
      "MNIST, 1074/1080, time 4.075\n",
      "iteration 6\n",
      "MNIST, 1253/1260, time 3.827\n",
      "iteration 7\n",
      "MNIST, 1432/1440, time 3.815\n",
      "iteration 8\n",
      "MNIST, 1611/1620, time 3.933\n",
      "iteration 9\n",
      "MNIST, 1790/1800, time 3.834\n",
      "MNIST classifier accuracy = 99.44%\n"
     ]
    },
    {
     "data": {
      "image/png": "[encoded data removed]",
      "text/plain": [
       "<Figure size 432x288 with 1 Axes>"
      ]
     },
     "metadata": {
      "needs_background": "light"
     },
     "output_type": "display_data"
    }
   ],
   "source": [
    "analyze_classifier(lambda x: minst_classifier.classify_by_path(x, attempts=1), test_mnist, 'MNIST', iterations=10)"
   ]
  },
  {
   "cell_type": "markdown",
   "metadata": {},
   "source": [
    "# Download datasets"
   ]
  },
  {
   "cell_type": "code",
   "execution_count": null,
   "metadata": {},
   "outputs": [],
   "source": []
  }
 ],
 "metadata": {
  "kernelspec": {
   "display_name": "Python 3",
   "language": "python",
   "name": "python3"
  },
  "language_info": {
   "codemirror_mode": {
    "name": "ipython",
    "version": 3
   },
   "file_extension": ".py",
   "mimetype": "text/x-python",
   "name": "python",
   "nbconvert_exporter": "python",
   "pygments_lexer": "ipython3",
   "version": "3.8.5"
  }
 },
 "nbformat": 4,
 "nbformat_minor": 4
}
