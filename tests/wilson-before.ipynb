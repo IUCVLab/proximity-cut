{
 "cells": [
  {
   "cell_type": "code",
   "execution_count": 1,
   "metadata": {},
   "outputs": [],
   "source": [
    "import random\n",
    "import numpy as np\n",
    "from numpy.linalg import norm as vector_norm\n",
    "import matplotlib.pyplot as plt\n",
    "from sklearn import datasets\n",
    "\n",
    "import sys\n",
    "sys.path.append('../modules')\n",
    "from nsw.data_gen import gen_kd\n",
    "from nsw.nsw_classifier import NSWClassifier\n",
    "from nsw.cut_classifier import CutClassifier"
   ]
  },
  {
   "cell_type": "code",
   "execution_count": 2,
   "metadata": {},
   "outputs": [],
   "source": [
    "def wilson_me(dataset, G, k):\n",
    "    new_dataset = []\n",
    "    for row in dataset:\n",
    "        if G.classify_knn(row[0], k=k) == row[1]:\n",
    "            new_dataset.append(row)\n",
    "    return new_dataset\n",
    "\n",
    "def prepare_classifier(dataset, wilson=False, wilsonlike=True, M=None, cutshare=.5):\n",
    "    random.seed(13)\n",
    "    print(f\"\\n\\nPreparing {len(dataset)}. Wilson-editing before = {wilson}, Wilson-like after = {wilsonlike}\")\n",
    "    \n",
    "    G = NSWClassifier()\n",
    "    G.build_navigable_graph(dataset, attempts=2, M=M)\n",
    "    \n",
    "    if wilson:\n",
    "        print(\"\\tRunning wilson editing\")\n",
    "        filtered = wilson_me(dataset, G, 7)\n",
    "        print(f\"\\t{len(filtered)} items after WE\")\n",
    "        G = NSWClassifier()\n",
    "        G.build_navigable_graph(filtered, attempts=2, M=M)\n",
    "        print(\"\\tGraph rebuild\")\n",
    "    \n",
    "    rich_cut = G.get_sorted_rich_cut()\n",
    "    print(\"Cut size is:\", len(rich_cut))\n",
    "    lengths = [e[1] for e in rich_cut]\n",
    "    plt.hist(lengths, bins=100)\n",
    "    plt.show()\n",
    "    smaller_cut = rich_cut[:int(len(rich_cut) * cutshare)]\n",
    "    cclf = CutClassifier(G, smaller_cut, wilson=wilsonlike)\n",
    "    clf = cclf.classifier\n",
    "    return clf\n",
    "\n",
    "def testclf(clf, test):\n",
    "    positive = 0\n",
    "    for t in test:\n",
    "        pc = clf(t[0], R=1, small=.005, closest=7, M=8)\n",
    "        if int(pc > .5) == t[1]:\n",
    "            positive += 1    \n",
    "    print(f\"Accuracy is: {100. * positive / len(test):.4f}%\")"
   ]
  },
  {
   "cell_type": "markdown",
   "metadata": {},
   "source": [
    "# Genarate some data"
   ]
  },
  {
   "cell_type": "code",
   "execution_count": 3,
   "metadata": {},
   "outputs": [],
   "source": [
    "import random\n",
    "random.seed(13)\n",
    "\n",
    "train = gen_kd(N=3000, k=2, border=.79, noise=.03)\n",
    "test = gen_kd(N=300, k=2, border=.79)"
   ]
  },
  {
   "cell_type": "markdown",
   "metadata": {},
   "source": [
    "## Wilson-like editing in graph cut"
   ]
  },
  {
   "cell_type": "code",
   "execution_count": 4,
   "metadata": {},
   "outputs": [
    {
     "name": "stdout",
     "output_type": "stream",
     "text": [
      "\n",
      "\n",
      "Preparing 3000. Wilson-editing before = False, Wilson-like after = True\n",
      "Classifier graph is build in 12.717s\n",
      "Cut size is: 1920\n"
     ]
    },
    {
     "data": {
      "image/png": "[encoded data removed]",
      "text/plain": [
       "<Figure size 432x288 with 1 Axes>"
      ]
     },
     "metadata": {
      "needs_background": "light"
     },
     "output_type": "display_data"
    },
    {
     "name": "stdout",
     "output_type": "stream",
     "text": [
      "Graph initialized with cut (960).\n",
      "Wilson: Data shape 2\n",
      "Clean cut (235).\n",
      "Shortest dist estimated (0.0106).\n",
      "Support with 300 nodes is created.\n",
      "Data dimensionality detected is 2. regularity = 6\n",
      "\t10.00% of graph construction\n",
      "\t20.00% of graph construction\n",
      "\t30.00% of graph construction\n",
      "\t40.00% of graph construction\n",
      "\t50.00% of graph construction\n",
      "\t60.00% of graph construction\n",
      "\t70.00% of graph construction\n",
      "\t80.00% of graph construction\n",
      "\t90.00% of graph construction\n",
      "Support graph is built.\n",
      "get_grad_field_function: Edge index is prepared.\n",
      "Classifier function is ready.\n",
      "Accuracy is: 97.0000%\n"
     ]
    }
   ],
   "source": [
    "wilsonlike = prepare_classifier(train, wilson=False, wilsonlike=True)\n",
    "testclf(wilsonlike, test)"
   ]
  },
  {
   "cell_type": "markdown",
   "metadata": {},
   "source": [
    "## No Wilson editing at all"
   ]
  },
  {
   "cell_type": "code",
   "execution_count": 5,
   "metadata": {},
   "outputs": [
    {
     "name": "stdout",
     "output_type": "stream",
     "text": [
      "\n",
      "\n",
      "Preparing 3000. Wilson-editing before = False, Wilson-like after = False\n",
      "Classifier graph is build in 11.275s\n",
      "Cut size is: 1920\n"
     ]
    },
    {
     "data": {
      "image/png": "[encoded data removed]",
      "text/plain": [
       "<Figure size 432x288 with 1 Axes>"
      ]
     },
     "metadata": {
      "needs_background": "light"
     },
     "output_type": "display_data"
    },
    {
     "name": "stdout",
     "output_type": "stream",
     "text": [
      "Graph initialized with cut (960).\n",
      "Clean cut (960).\n",
      "Shortest dist estimated (0.0083).\n",
      "Support with 300 nodes is created.\n",
      "Data dimensionality detected is 2. regularity = 6\n",
      "\t10.00% of graph construction\n",
      "\t20.00% of graph construction\n",
      "\t30.00% of graph construction\n",
      "\t40.00% of graph construction\n",
      "\t50.00% of graph construction\n",
      "\t60.00% of graph construction\n",
      "\t70.00% of graph construction\n",
      "\t80.00% of graph construction\n",
      "\t90.00% of graph construction\n",
      "Support graph is built.\n",
      "get_grad_field_function: Edge index is prepared.\n",
      "Classifier function is ready.\n",
      "Accuracy is: 94.6667%\n"
     ]
    }
   ],
   "source": [
    "nowilson = prepare_classifier(train, wilson=False, wilsonlike=False)\n",
    "testclf(nowilson, test)"
   ]
  },
  {
   "cell_type": "markdown",
   "metadata": {},
   "source": [
    "## Wilson editing for data"
   ]
  },
  {
   "cell_type": "code",
   "execution_count": 6,
   "metadata": {},
   "outputs": [
    {
     "name": "stdout",
     "output_type": "stream",
     "text": [
      "\n",
      "\n",
      "Preparing 3000. Wilson-editing before = True, Wilson-like after = False\n",
      "Classifier graph is build in 11.468s\n",
      "\tRunning wilson editing\n",
      "\t2880 items after WE\n",
      "Classifier graph is build in 11.124s\n",
      "\tGraph rebuild\n",
      "Cut size is: 892\n"
     ]
    },
    {
     "data": {
      "image/png": "[encoded data removed]",
      "text/plain": [
       "<Figure size 432x288 with 1 Axes>"
      ]
     },
     "metadata": {
      "needs_background": "light"
     },
     "output_type": "display_data"
    },
    {
     "name": "stdout",
     "output_type": "stream",
     "text": [
      "Graph initialized with cut (446).\n",
      "Clean cut (446).\n",
      "Shortest dist estimated (0.0083).\n",
      "Support with 288 nodes is created.\n",
      "Data dimensionality detected is 2. regularity = 6\n",
      "\t50.00% of graph construction\n",
      "Support graph is built.\n",
      "get_grad_field_function: Edge index is prepared.\n",
      "Classifier function is ready.\n",
      "Accuracy is: 96.6667%\n"
     ]
    }
   ],
   "source": [
    "wilson = prepare_classifier(train, wilson=True, wilsonlike=False)\n",
    "testclf(wilson, test)"
   ]
  },
  {
   "cell_type": "markdown",
   "metadata": {},
   "source": [
    "# 100 leaves"
   ]
  },
  {
   "cell_type": "code",
   "execution_count": 7,
   "metadata": {},
   "outputs": [
    {
     "name": "stdout",
     "output_type": "stream",
     "text": [
      "{'Betula Pendula': 16, 'Populus Nigra': 16, 'Quercus Brantii': 16, 'Quercus Canariensis': 16, 'Quercus Castaneifolia': 16, 'Quercus Infectoria sub': 16, 'Castanea Sativa': 16, 'Morus Nigra': 16, 'Prunus X Shmittii': 16, 'Acer Campestre': 16, 'Acer Circinatum': 16, 'Acer Mono': 16, 'Acer Palmatum': 16, 'Acer Platanoids': 16, 'Acer Rubrum': 16, 'Acer Rufinerve': 16, 'Acer Saccharinum': 16, 'Liquidambar Styraciflua': 16, 'Liriodendron Tulipifera': 16, 'Quercus Ellipsoidalis': 16, 'Quercus Palustris': 16, 'Quercus Pubescens': 16, 'Ilex Aquifolium': 16, 'Quercus Coccifera': 16, 'Quercus Greggii': 16, 'Quercus Pyrenaica': 16, 'Quercus Rubra': 16, 'Quercus Shumardii': 16, 'Quercus Texana': 16, 'Quercus Vulcanica': 16, 'Acer Opalus': 16, 'Acer Pictum': 16, 'Crataegus Monogyna': 16, 'Quercus Cerris': 16, 'Quercus Coccinea': 16, 'Quercus Afares': 16, 'Quercus Hartwissiana': 16, 'Quercus Kewensis': 16, 'Zelkova Serrata': 16, 'Populus Grandidentata': 16, 'Quercus Alnifolia': 16, 'Quercus Semecarpifolia': 16, 'Quercus x Turneri': 16, 'Sorbus Aria': 16, 'Ginkgo Biloba': 16}\n",
      "Non-curly 880\n",
      "Curly 720\n",
      "Dataset len 1440\n"
     ]
    }
   ],
   "source": [
    "margin_file = \"../data/100leaves/data_Mar_64.txt\"\n",
    "\n",
    "curly = [\"Betula Pendula\", \"Populus Nigra\", \"Quercus Brantii\", \n",
    "         \"Quercus Canariensis\", \"Quercus Castaneifolia\", \"Quercus Infectoria sub\",\n",
    "         \"Castanea Sativa\", \"Morus Nigra\", \"Prunus X Shmittii\",\n",
    "         \"Acer Campestre\", \"Acer Circinatum\", \"Acer Mono\", \"Acer Palmatum\", \n",
    "         \"Acer Platanoids\", \"Acer Rubrum\", \"Acer Rufinerve\", \"Acer Saccharinum\", \n",
    "         \"Liquidambar Styraciflua\", \"Liriodendron Tulipifera\", \n",
    "         \"Quercus Ellipsoidalis\", \"Quercus Palustris\", \"Quercus Pubescens\", \n",
    "         \"Ilex Aquifolium\", \"Quercus Coccifera\", \"Quercus Greggii\",\n",
    "         \"Quercus Pyrenaica\", \"Quercus Rubra\", \n",
    "         \"Quercus Shumardii\", \"Quercus Texana\",\"Quercus Vulcanica\",\n",
    "         \"Acer Opalus\", \"Acer Pictum\", \n",
    "         \"Crataegus Monogyna\", \"Quercus Cerris\",\n",
    "         \"Quercus Coccinea\", \"Quercus Afares\",\n",
    "         \"Quercus Hartwissiana\", \"Quercus Kewensis\",\n",
    "         \"Zelkova Serrata\", \"Populus Grandidentata\",\n",
    "         \"Quercus Alnifolia\", \"Quercus Semecarpifolia\",\n",
    "         \"Quercus x Turneri\", \"Sorbus Aria\", \"Ginkgo Biloba\",\n",
    "        ]\n",
    "\n",
    "dataset = []\n",
    "d = dict((c, 0) for c in curly)\n",
    "for line in open(margin_file):\n",
    "    parts = line.strip().split(',')\n",
    "    class_, vect = parts[0], np.array(list(map(float, parts[1:])))\n",
    "    dataset.append((vect, int(class_ in curly)))\n",
    "    if class_ in d:\n",
    "        d[class_] += 1\n",
    "\n",
    "print(d)\n",
    "print(\"Non-curly\", len([v for v in dataset if v[1] == 0]))\n",
    "print(\"Curly\", len([v for v in dataset if v[1] == 1]))\n",
    "\n",
    "nc = [v for v in dataset if v[1] == 0]\n",
    "cu = [v for v in dataset if v[1] == 1]\n",
    "\n",
    "curlycount = len(cu)\n",
    "noncurlycount = len(nc)\n",
    "\n",
    "if noncurlycount > curlycount:\n",
    "    random.shuffle(nc)\n",
    "    dataset = nc[:curlycount] + cu\n",
    "\n",
    "random.shuffle(dataset)\n",
    "print(\"Dataset len\", len(dataset))   "
   ]
  },
  {
   "cell_type": "code",
   "execution_count": 8,
   "metadata": {},
   "outputs": [
    {
     "name": "stdout",
     "output_type": "stream",
     "text": [
      "train 1296; test 144\n"
     ]
    }
   ],
   "source": [
    "train_leaves, test_leaves = dataset[:9 * len(dataset) // 10], dataset[9 * len(dataset) // 10:]\n",
    "print(f\"train {len(train_leaves)}; test {len(test_leaves)}\")"
   ]
  },
  {
   "cell_type": "code",
   "execution_count": 9,
   "metadata": {},
   "outputs": [
    {
     "name": "stdout",
     "output_type": "stream",
     "text": [
      "\n",
      "\n",
      "Preparing 1296. Wilson-editing before = False, Wilson-like after = False\n",
      "Classifier graph is build in 20.996s\n",
      "Cut size is: 18891\n"
     ]
    },
    {
     "data": {
      "image/png": "[encoded data removed]",
      "text/plain": [
       "<Figure size 432x288 with 1 Axes>"
      ]
     },
     "metadata": {
      "needs_background": "light"
     },
     "output_type": "display_data"
    },
    {
     "name": "stdout",
     "output_type": "stream",
     "text": [
      "Graph initialized with cut (1889).\n",
      "Clean cut (1889).\n",
      "Shortest dist estimated (0.0310).\n",
      "Support with 129 nodes is created.\n",
      "Data dimensionality detected is 64. regularity = 192\n",
      "Support graph is built.\n",
      "get_grad_field_function: Edge index is prepared.\n",
      "Classifier function is ready.\n",
      "Accuracy is: 81.9444%\n",
      "\n",
      "\n",
      "Preparing 1296. Wilson-editing before = False, Wilson-like after = True\n",
      "Classifier graph is build in 21.241s\n",
      "Cut size is: 18891\n"
     ]
    },
    {
     "data": {
      "image/png": "[encoded data removed]",
      "text/plain": [
       "<Figure size 432x288 with 1 Axes>"
      ]
     },
     "metadata": {
      "needs_background": "light"
     },
     "output_type": "display_data"
    },
    {
     "name": "stdout",
     "output_type": "stream",
     "text": [
      "Graph initialized with cut (1889).\n",
      "Wilson: Data shape 64\n",
      "Clean cut (1889).\n",
      "Shortest dist estimated (0.0291).\n",
      "Support with 129 nodes is created.\n",
      "Data dimensionality detected is 64. regularity = 192\n",
      "Support graph is built.\n",
      "get_grad_field_function: Edge index is prepared.\n",
      "Classifier function is ready.\n",
      "Accuracy is: 81.2500%\n",
      "\n",
      "\n",
      "Preparing 1296. Wilson-editing before = True, Wilson-like after = False\n",
      "Classifier graph is build in 19.511s\n",
      "\tRunning wilson editing\n",
      "\t1275 items after WE\n",
      "Classifier graph is build in 18.527s\n",
      "\tGraph rebuild\n",
      "Cut size is: 18003\n"
     ]
    },
    {
     "data": {
      "image/png": "[encoded data removed]",
      "text/plain": [
       "<Figure size 432x288 with 1 Axes>"
      ]
     },
     "metadata": {
      "needs_background": "light"
     },
     "output_type": "display_data"
    },
    {
     "name": "stdout",
     "output_type": "stream",
     "text": [
      "Graph initialized with cut (1800).\n",
      "Clean cut (1800).\n",
      "Shortest dist estimated (0.0302).\n",
      "Support with 127 nodes is created.\n",
      "Data dimensionality detected is 64. regularity = 192\n",
      "Support graph is built.\n",
      "get_grad_field_function: Edge index is prepared.\n",
      "Classifier function is ready.\n",
      "Accuracy is: 84.0278%\n"
     ]
    }
   ],
   "source": [
    "hnowilson = prepare_classifier(train_leaves, wilson=False, wilsonlike=False, M=50, cutshare=.1)\n",
    "testclf(hnowilson, test_leaves)\n",
    "hwilsonlike = prepare_classifier(train_leaves, wilson=False, wilsonlike=True, M=50, cutshare=.1)\n",
    "testclf(hwilsonlike, test_leaves)\n",
    "hwilson = prepare_classifier(train_leaves, wilson=True, wilsonlike=False, M=50, cutshare=.1)\n",
    "testclf(hwilson, test_leaves)"
   ]
  }
 ],
 "metadata": {
  "kernelspec": {
   "display_name": "Python 3",
   "language": "python",
   "name": "python3"
  },
  "language_info": {
   "codemirror_mode": {
    "name": "ipython",
    "version": 3
   },
   "file_extension": ".py",
   "mimetype": "text/x-python",
   "name": "python",
   "nbconvert_exporter": "python",
   "pygments_lexer": "ipython3",
   "version": "3.7.4"
  }
 },
 "nbformat": 4,
 "nbformat_minor": 4
}
