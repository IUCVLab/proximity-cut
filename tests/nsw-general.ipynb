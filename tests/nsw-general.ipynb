{
 "cells": [
  {
   "cell_type": "markdown",
   "metadata": {},
   "source": [
    "# NSW class"
   ]
  },
  {
   "cell_type": "code",
   "execution_count": 1,
   "metadata": {},
   "outputs": [],
   "source": [
    "import sys, os\n",
    "sys.path.append('../modules')\n",
    "from nsw.nsw import Node, NSWGraph"
   ]
  },
  {
   "cell_type": "code",
   "execution_count": 2,
   "metadata": {},
   "outputs": [],
   "source": [
    "G = NSWGraph()"
   ]
  },
  {
   "cell_type": "markdown",
   "metadata": {},
   "source": [
    "## Save and load"
   ]
  },
  {
   "cell_type": "code",
   "execution_count": 3,
   "metadata": {},
   "outputs": [
    {
     "name": "stdout",
     "output_type": "stream",
     "text": [
      "Data dimensionality detected is 2. regularity = 6\n",
      "[`#0: '[1, 2]' ~ [{1, 2, 3}]`, `#1: '(3, 4)' ~ [{0, 2, 3}]`, `#2: '(4, 4)' ~ [{0, 1, 3}]`, `#3: '(6, 4)' ~ [{0, 1, 2}]`]\n"
     ]
    }
   ],
   "source": [
    "G = NSWGraph()\n",
    "G.build_navigable_graph([([1, 2], 3), ((3, 4), 5), ((4, 4), 5), ((6, 4), 5)])\n",
    "filename = \"tmp.graph\"\n",
    "G.save(filename)\n",
    "G2 = NSWGraph.load(filename)\n",
    "os.remove(filename)\n",
    "\n",
    "print(G.nodes)\n",
    "\n",
    "assert len(G.nodes) == len(G2.nodes)"
   ]
  }
 ],
 "metadata": {
  "kernelspec": {
   "display_name": "Python 3",
   "language": "python",
   "name": "python3"
  },
  "language_info": {
   "codemirror_mode": {
    "name": "ipython",
    "version": 3
   },
   "file_extension": ".py",
   "mimetype": "text/x-python",
   "name": "python",
   "nbconvert_exporter": "python",
   "pygments_lexer": "ipython3",
   "version": "3.7.4"
  }
 },
 "nbformat": 4,
 "nbformat_minor": 4
}
