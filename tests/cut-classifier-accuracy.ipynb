{
 "cells": [
  {
   "cell_type": "code",
   "execution_count": 1,
   "metadata": {},
   "outputs": [],
   "source": [
    "import random\n",
    "import numpy as np\n",
    "from numpy.linalg import norm as vector_norm\n",
    "import matplotlib.pyplot as plt\n",
    "from itertools import product\n",
    "from sklearn import datasets\n",
    "\n",
    "import sys\n",
    "sys.path.append('../modules')\n",
    "from nsw.nsw_classifier import NSWClassifier\n",
    "from nsw.cut_classifier import CutClassifier"
   ]
  },
  {
   "cell_type": "markdown",
   "metadata": {},
   "source": [
    "# Even-odd mnist classifier"
   ]
  },
  {
   "cell_type": "code",
   "execution_count": 2,
   "metadata": {},
   "outputs": [
    {
     "name": "stdout",
     "output_type": "stream",
     "text": [
      "Classifier is building a graph. Data dimensionality detected is 64. regularity = 192\n",
      "Classifier graph is build in 106.428s\n"
     ]
    }
   ],
   "source": [
    "digits = datasets.load_digits()\n",
    "X, Y = [x.flatten() for x in digits.images], [int(x in [1, 2, 4, 7, 9]) for x in digits.target]\n",
    "XY = list(zip(X, Y))\n",
    "random.shuffle(XY)\n",
    "train_mnist, test_mnist = XY[:9 * len(XY) // 10], XY[9 * len(XY) // 10:]\n",
    "\n",
    "G = NSWClassifier()\n",
    "G.build_navigable_graph(train_mnist, attempts=20, verbose=True)"
   ]
  },
  {
   "cell_type": "code",
   "execution_count": 3,
   "metadata": {},
   "outputs": [
    {
     "name": "stdout",
     "output_type": "stream",
     "text": [
      "Initial cut size 110653\n"
     ]
    },
    {
     "data": {
      "image/png": "[encoded data removed]",
      "text/plain": [
       "<Figure size 432x288 with 1 Axes>"
      ]
     },
     "metadata": {
      "needs_background": "light"
     },
     "output_type": "display_data"
    },
    {
     "data": {
      "text/plain": [
       "8085"
      ]
     },
     "execution_count": 3,
     "metadata": {},
     "output_type": "execute_result"
    }
   ],
   "source": [
    "rich_cut = [(e, G.dist(G.nodes[e[0]].value, G.nodes[e[1]].value)) for e in G.cut]\n",
    "rich_cut.sort(key=lambda v: v[1])\n",
    "print(f\"Initial cut size {len(rich_cut)}\")\n",
    "lengths = [e[1] for e in rich_cut]\n",
    "plt.hist(lengths, bins=100)\n",
    "plt.show()\n",
    "smaller_cut = rich_cut[:len(G.nodes) * 5]\n",
    "print(f\"Smaller cut size: {len(smaller_cut)}\")"
   ]
  },
  {
   "cell_type": "code",
   "execution_count": 4,
   "metadata": {},
   "outputs": [
    {
     "name": "stdout",
     "output_type": "stream",
     "text": [
      "Graph initialized with cut (8085).\n",
      "Clean cut (7573).\n",
      "Shortest dist estimated (7.9373).\n",
      "Support with 50 nodes is created.\n",
      "Data dimensionality detected is 64. regularity = 192\n",
      "\t10.00% of graph construction\n",
      "\t20.00% of graph construction\n",
      "\t30.00% of graph construction\n",
      "\t40.00% of graph construction\n",
      "\t50.00% of graph construction\n",
      "\t60.00% of graph construction\n",
      "\t70.00% of graph construction\n",
      "\t80.00% of graph construction\n",
      "\t90.00% of graph construction\n",
      "Support graph is built.\n",
      "get_grad_field_function: Edge index is prepared.\n",
      "Classifier function is ready.\n"
     ]
    }
   ],
   "source": [
    "cclf = CutClassifier(G, smaller_cut)\n",
    "clf = cclf.classifier"
   ]
  },
  {
   "cell_type": "code",
   "execution_count": 7,
   "metadata": {},
   "outputs": [
    {
     "name": "stdout",
     "output_type": "stream",
     "text": [
      "---+++-+--++-++-++++12 20\n",
      "0.5555555555555556\n"
     ]
    }
   ],
   "source": [
    "true, true0, true1 = 0, 0, 0\n",
    "tst = test_mnist[:20]\n",
    "for t in tst:\n",
    "    pc = clf(t[0], small=0.0001, R=64, closest=9, M=16)\n",
    "    pci = int(pc > .5)\n",
    "    true += pci == t[1]\n",
    "    true0 += pci == t[1] and t[1] == 0\n",
    "    true1 += pci == t[1] and t[1] == 1\n",
    "    print(\"+\" if pci == t[1] else \"-\", end=\"\")\n",
    "\n",
    "print(true, len(tst))\n",
    "tp = true1\n",
    "fn = sum(t[1] for t in tst) - tp\n",
    "tn = true0\n",
    "fp = (len(tst) - sum(t[1] for t in tst)) - tn\n",
    "f1 = tp / (tp + (fn + fp) / 2)\n",
    "print(f1)"
   ]
  },
  {
   "cell_type": "code",
   "execution_count": 6,
   "metadata": {},
   "outputs": [
    {
     "name": "stdout",
     "output_type": "stream",
     "text": [
      "4 6 7 3\n"
     ]
    }
   ],
   "source": [
    "print(tp, fn, tn, fp)"
   ]
  }
 ],
 "metadata": {
  "kernelspec": {
   "display_name": "Python 3",
   "language": "python",
   "name": "python3"
  },
  "language_info": {
   "codemirror_mode": {
    "name": "ipython",
    "version": 3
   },
   "file_extension": ".py",
   "mimetype": "text/x-python",
   "name": "python",
   "nbconvert_exporter": "python",
   "pygments_lexer": "ipython3",
   "version": "3.7.4"
  }
 },
 "nbformat": 4,
 "nbformat_minor": 4
}
