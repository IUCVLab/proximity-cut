{
 "cells": [
  {
   "cell_type": "code",
   "execution_count": 1,
   "metadata": {},
   "outputs": [],
   "source": [
    "import random\n",
    "import numpy as np\n",
    "from numpy.linalg import norm as vector_norm\n",
    "import matplotlib.pyplot as plt\n",
    "from itertools import product\n",
    "from sklearn import datasets\n",
    "\n",
    "import sys\n",
    "sys.path.append('../modules')\n",
    "from nsw.nsw_classifier import NSWClassifier\n",
    "from nsw.cut_classifier import CutClassifier"
   ]
  },
  {
   "cell_type": "markdown",
   "metadata": {},
   "source": [
    "# 100 leaves dataset"
   ]
  },
  {
   "cell_type": "code",
   "execution_count": 2,
   "metadata": {},
   "outputs": [
    {
     "name": "stdout",
     "output_type": "stream",
     "text": [
      "{'Betula Pendula': 16, 'Populus Nigra': 16, 'Quercus Brantii': 16, 'Quercus Canariensis': 16, 'Quercus Castaneifolia': 16, 'Quercus Infectoria sub': 16, 'Castanea Sativa': 16, 'Morus Nigra': 16, 'Prunus X Shmittii': 16, 'Acer Campestre': 16, 'Acer Circinatum': 16, 'Acer Mono': 16, 'Acer Palmatum': 16, 'Acer Platanoids': 16, 'Acer Rubrum': 16, 'Acer Rufinerve': 16, 'Acer Saccharinum': 16, 'Liquidambar Styraciflua': 16, 'Liriodendron Tulipifera': 16, 'Quercus Ellipsoidalis': 16, 'Quercus Palustris': 16, 'Quercus Pubescens': 16, 'Ilex Aquifolium': 16, 'Quercus Coccifera': 16, 'Quercus Greggii': 16, 'Quercus Pyrenaica': 16, 'Quercus Rubra': 16, 'Quercus Shumardii': 16, 'Quercus Texana': 16, 'Quercus Vulcanica': 16, 'Acer Opalus': 16, 'Acer Pictum': 16, 'Crataegus Monogyna': 16, 'Quercus Cerris': 16, 'Quercus Coccinea': 16, 'Quercus Afares': 16, 'Quercus Hartwissiana': 16, 'Quercus Kewensis': 16, 'Zelkova Serrata': 16, 'Populus Grandidentata': 16, 'Quercus Alnifolia': 16, 'Quercus Semecarpifolia': 16, 'Quercus x Turneri': 16, 'Sorbus Aria': 16, 'Ginkgo Biloba': 16}\n",
      "Non-curly 880\n",
      "Curly 720\n",
      "Dataset len 1440\n"
     ]
    }
   ],
   "source": [
    "import random\n",
    "\n",
    "margin_file = \"../data/100leaves/data_Mar_64.txt\"\n",
    "\n",
    "curly = [\"Betula Pendula\", \"Populus Nigra\", \"Quercus Brantii\", \n",
    "         \"Quercus Canariensis\", \"Quercus Castaneifolia\", \"Quercus Infectoria sub\",\n",
    "         \"Castanea Sativa\", \"Morus Nigra\", \"Prunus X Shmittii\",\n",
    "         \"Acer Campestre\", \"Acer Circinatum\", \"Acer Mono\", \"Acer Palmatum\", \n",
    "         \"Acer Platanoids\", \"Acer Rubrum\", \"Acer Rufinerve\", \"Acer Saccharinum\", \n",
    "         \"Liquidambar Styraciflua\", \"Liriodendron Tulipifera\", \n",
    "         \"Quercus Ellipsoidalis\", \"Quercus Palustris\", \"Quercus Pubescens\", \n",
    "         \"Ilex Aquifolium\", \"Quercus Coccifera\", \"Quercus Greggii\",\n",
    "         \n",
    "         \"Quercus Pyrenaica\", \"Quercus Rubra\", \n",
    "         \"Quercus Shumardii\", \"Quercus Texana\",\"Quercus Vulcanica\",\n",
    "         \"Acer Opalus\", \"Acer Pictum\", \n",
    "         \"Crataegus Monogyna\", \"Quercus Cerris\",\n",
    "         \"Quercus Coccinea\", \"Quercus Afares\",\n",
    "         \"Quercus Hartwissiana\", \"Quercus Kewensis\",\n",
    "         \"Zelkova Serrata\", \"Populus Grandidentata\",\n",
    "         \"Quercus Alnifolia\", \"Quercus Semecarpifolia\",\n",
    "         \"Quercus x Turneri\", \"Sorbus Aria\", \"Ginkgo Biloba\",\n",
    "        ]\n",
    "\n",
    "dataset = []\n",
    "d = dict((c, 0) for c in curly)\n",
    "for line in open(margin_file):\n",
    "    \n",
    "    parts = line.strip().split(',')\n",
    "    class_, vect = parts[0], np.array(list(map(float, parts[1:])))\n",
    "    dataset.append((vect, int(class_ in curly)))\n",
    "    if class_ in d:\n",
    "        d[class_] += 1\n",
    "\n",
    "print(d)\n",
    "print(\"Non-curly\", len([v for v in dataset if v[1] == 0]))\n",
    "print(\"Curly\", len([v for v in dataset if v[1] == 1]))\n",
    "\n",
    "nc = [v for v in dataset if v[1] == 0]\n",
    "cu = [v for v in dataset if v[1] == 1]\n",
    "\n",
    "curlycount = len(cu)\n",
    "noncurlycount = len(nc)\n",
    "\n",
    "if noncurlycount > curlycount:\n",
    "    random.shuffle(nc)\n",
    "    dataset = nc[:curlycount] + cu\n",
    "\n",
    "random.shuffle(dataset)\n",
    "print(\"Dataset len\", len(dataset))   "
   ]
  },
  {
   "cell_type": "code",
   "execution_count": 3,
   "metadata": {},
   "outputs": [
    {
     "name": "stdout",
     "output_type": "stream",
     "text": [
      "train 1296; test 144\n",
      "Classifier graph is build in 45.682s\n"
     ]
    }
   ],
   "source": [
    "train_leaves, test_leaves = dataset[:9 * len(dataset) // 10], dataset[9 * len(dataset) // 10:]\n",
    "print(f\"train {len(train_leaves)}; test {len(test_leaves)}\")\n",
    "leaves_classifier = NSWClassifier()\n",
    "leaves_classifier.build_navigable_graph(train_leaves, attempts=10)"
   ]
  },
  {
   "cell_type": "code",
   "execution_count": 4,
   "metadata": {},
   "outputs": [
    {
     "name": "stdout",
     "output_type": "stream",
     "text": [
      "Initial cut size 91983\n"
     ]
    },
    {
     "data": {
      "image/png": "[encoded data removed]",
      "text/plain": [
       "<Figure size 432x288 with 1 Axes>"
      ]
     },
     "metadata": {
      "needs_background": "light"
     },
     "output_type": "display_data"
    },
    {
     "name": "stdout",
     "output_type": "stream",
     "text": [
      "Smaller cut size: 1296\n"
     ]
    }
   ],
   "source": [
    "rich_cut = [\n",
    "            (\n",
    "                e, \n",
    "                leaves_classifier.dist(leaves_classifier.nodes[e[0]].value, leaves_classifier.nodes[e[1]].value)\n",
    "            ) \n",
    "            for e in leaves_classifier.cut\n",
    "           ]\n",
    "rich_cut.sort(key=lambda v: v[1])\n",
    "print(f\"Initial cut size {len(rich_cut)}\")\n",
    "lengths = [e[1] for e in rich_cut]\n",
    "plt.hist(lengths, bins=100)\n",
    "plt.show()\n",
    "smaller_cut = rich_cut[:len(leaves_classifier.nodes)]\n",
    "print(f\"Smaller cut size: {len(smaller_cut)}\")"
   ]
  },
  {
   "cell_type": "code",
   "execution_count": 5,
   "metadata": {},
   "outputs": [
    {
     "name": "stdout",
     "output_type": "stream",
     "text": [
      "Graph initialized with cut (1296).\n",
      "Wilson: Data shape 64\n",
      "Clean cut (1296).\n",
      "Shortest dist estimated (0.0290).\n",
      "Support with 129 nodes is created.\n",
      "Data dimensionality detected is 64. regularity = 192\n",
      "Support graph is built.\n",
      "get_grad_field_function: Edge index is prepared.\n",
      "Classifier function is ready.\n"
     ]
    }
   ],
   "source": [
    "cclf = CutClassifier(leaves_classifier, smaller_cut)\n",
    "clf = cclf.classifier"
   ]
  },
  {
   "cell_type": "markdown",
   "metadata": {},
   "source": [
    "## Cut-based classifier"
   ]
  },
  {
   "cell_type": "code",
   "execution_count": 6,
   "metadata": {},
   "outputs": [
    {
     "name": "stdout",
     "output_type": "stream",
     "text": [
      "+++++-++++++++++-++++++++++++++++++---+--++++++++-+++-+++++++-+++-++++++++++++++++++++++++++++-+++++++-+++++-++++++++++++++-++++-++-++-++-++-+-+Accuracy 0.8541666666666666\n",
      "F1 score 0.8679245283018868\n",
      "predicted \\ real |\t0\t|\t1\t|\n",
      "       0         |\t54\t|\t10\t|\n",
      "       1         |\t11\t|\t69\t|\n"
     ]
    }
   ],
   "source": [
    "true, true0, true1 = 0, 0, 0\n",
    "for t in test_leaves:\n",
    "    pc = clf(t[0], small=0.000001, R=1, closest=9, M=16)\n",
    "    pci = int(pc > .5)\n",
    "    true += pci == t[1]\n",
    "    true0 += pci == t[1] and t[1] == 0\n",
    "    true1 += pci == t[1] and t[1] == 1\n",
    "    \n",
    "    print(\"+\" if pci == t[1] else \"-\", end=\"\")\n",
    "\n",
    "print(\"Accuracy\", true / len(test_leaves))\n",
    "tp = true1\n",
    "fn = sum(t[1] for t in test_leaves) - tp\n",
    "tn = true0\n",
    "fp = (len(test_leaves) - sum(t[1] for t in test_leaves)) - tn\n",
    "f1 = tp / (tp + (fn + fp) / 2)\n",
    "print(\"F1 score\", f1)\n",
    "print(\"predicted \\ real |\\t0\\t|\\t1\\t|\")\n",
    "print(f\"       0         |\\t{tn}\\t|\\t{fn}\\t|\")\n",
    "print(f\"       1         |\\t{fp}\\t|\\t{tp}\\t|\")"
   ]
  },
  {
   "cell_type": "markdown",
   "metadata": {},
   "source": [
    "## K-NN on support set (10%)"
   ]
  },
  {
   "cell_type": "code",
   "execution_count": null,
   "metadata": {},
   "outputs": [
    {
     "name": "stdout",
     "output_type": "stream",
     "text": [
      "K = 5\n",
      "+++++-++-+++++++-+++++-++++++++++++---+--++++--++-+++-+++++-+-+++-++++++++++++++-+++++++++++++-+++++++++++++++++++-++++++++-++++-++-++-++-++-+-+Accuracy 0.8194444444444444\n",
      "F1 score 0.8375\n",
      "predicted \\ real |\t0\t|\t1\t|\n",
      "       0         |\t51\t|\t12\t|\n",
      "       1         |\t14\t|\t67\t|\n",
      "K = 7\n",
      "+++++-++++++++++-++++++++++++++++++---+--+++++-++-+++-+++++-+-+++-++++++++++++++++++++++++++++-+-+++++--++++++++++-++++++++-++++-+++++-++-++-+-+Accuracy 0.8333333333333334\n",
      "F1 score 0.85\n",
      "predicted \\ real |\t0\t|\t1\t|\n",
      "       0         |\t52\t|\t11\t|\n",
      "       1         |\t13\t|\t68\t|\n",
      "K = 9\n",
      "++-++-++-+++++++-++++++++++++++++++---+--++++++++-+++-+++++-+++++-++++++++++++++++++++++-+++++-+-+++++--++++++++++-++++++++-++++-++-++-++-++-+-+Accuracy 0.8194444444444444\n",
      "F1 score 0.8354430379746836\n",
      "predicted \\ real |\t0\t|\t1\t|\n",
      "       0         |\t52\t|\t13\t|\n",
      "       1         |\t13\t|\t66\t|\n",
      "K = 11\n",
      "++-++-++++++++++-++++++++++++++++++---+-++-++++++-+++-+++++-+++++-++++++++++++++-+++++++-+++++-+-+++++--++++++++++-++++++++-++++-++-++-++-++-+-+Accuracy 0.8194444444444444\n",
      "F1 score 0.8333333333333334\n",
      "predicted \\ real |\t0\t|\t1\t|\n",
      "       0         |\t53\t|\t14\t|\n",
      "       1         |\t12\t|\t65\t|\n",
      "K = 13\n",
      "++-++-++++++++++-++++++++++++++++++---+-++--+++++-+++-+++++++++++-++++++++++++++-+++++++-+++++---+++++--++++++++++-+++"
     ]
    }
   ],
   "source": [
    "for k in [5, 7, 9, 11, 13]:\n",
    "    print(\"K =\", k)\n",
    "    true, true0, true1 = 0, 0, 0\n",
    "    for t in test_leaves:\n",
    "        nodes = cclf.support_nsw.multi_search(t[0], attempts=1, top=k)\n",
    "        classes = [cclf.support_nsw.nodes[n]._class for n in nodes]\n",
    "        pci = sum(classes) > k // 2\n",
    "        true += pci == t[1]\n",
    "        true0 += pci == t[1] and t[1] == 0\n",
    "        true1 += pci == t[1] and t[1] == 1\n",
    "        print(\"+\" if pci == t[1] else \"-\", end=\"\")\n",
    "\n",
    "    print(\"Accuracy\", true / len(test_leaves))\n",
    "    tp = true1\n",
    "    fn = sum(t[1] for t in test_leaves) - tp\n",
    "    tn = true0\n",
    "    fp = (len(test_leaves) - sum(t[1] for t in test_leaves)) - tn\n",
    "    f1 = tp / (tp + (fn + fp) / 2)\n",
    "    print(\"F1 score\", f1)\n",
    "    print(\"predicted \\ real |\\t0\\t|\\t1\\t|\")\n",
    "    print(f\"       0         |\\t{tn}\\t|\\t{fn}\\t|\")\n",
    "    print(f\"       1         |\\t{fp}\\t|\\t{tp}\\t|\")"
   ]
  },
  {
   "cell_type": "markdown",
   "metadata": {},
   "source": [
    "## Graph-based classifier on full set"
   ]
  },
  {
   "cell_type": "code",
   "execution_count": 15,
   "metadata": {},
   "outputs": [
    {
     "name": "stdout",
     "output_type": "stream",
     "text": [
      "+++++++++++++++++++++++++++++++++++++++-+++++++++-+++++++++++++++++++++++-++++++++++++++++++++++++++++++++++++++++++++++++++++++++++++++++++++++\n",
      "time: 26.16412360859815\n",
      "Accuracy 0.9791666666666666\n",
      "F1 score 0.9806451612903225\n",
      "predicted \\ real |\t0\t|\t1\t|\n",
      "       0         |\t65\t|\t3\t|\n",
      "       1         |\t0\t|\t76\t|\n"
     ]
    }
   ],
   "source": [
    "import time\n",
    "true, true0, true1 = 0, 0, 0\n",
    "tm = 0\n",
    "for t in test_leaves:\n",
    "    tm -= time.perf_counter()\n",
    "    pci = leaves_classifier.classify_by_path(t[0], attempts=1)\n",
    "    tm += time.perf_counter()\n",
    "    true += pci == t[1]\n",
    "    true0 += pci == t[1] and t[1] == 0\n",
    "    true1 += pci == t[1] and t[1] == 1\n",
    "    print(\"+\" if pci == t[1] else \"-\", end=\"\")\n",
    "print(\"\\ntime:\", 1000 * tm / len(test_leaves))\n",
    "\n",
    "print(\"Accuracy\", true / len(test_leaves))\n",
    "tp = true1\n",
    "fn = sum(t[1] for t in test_leaves) - tp\n",
    "tn = true0\n",
    "fp = (len(test_leaves) - sum(t[1] for t in test_leaves)) - tn\n",
    "f1 = tp / (tp + (fn + fp) / 2)\n",
    "print(\"F1 score\", f1)\n",
    "print(\"predicted \\ real |\\t0\\t|\\t1\\t|\")\n",
    "print(f\"       0         |\\t{tn}\\t|\\t{fn}\\t|\")\n",
    "print(f\"       1         |\\t{fp}\\t|\\t{tp}\\t|\")"
   ]
  },
  {
   "cell_type": "markdown",
   "metadata": {},
   "source": [
    "## K-NN classifier on full dataset"
   ]
  },
  {
   "cell_type": "code",
   "execution_count": 17,
   "metadata": {},
   "outputs": [
    {
     "name": "stdout",
     "output_type": "stream",
     "text": [
      "K= 1\n",
      "++++++++++++++++-+++++++++++++++++++-++-+++++++++-++++++++++++++++++++++++++++++++++++++++++++++++++++++++++++++++++++++++++++++++++++++++++++-+\n",
      "time: 31.779531247997916\n",
      "Accuracy 0.9652777777777778\n",
      "F1 score 0.9681528662420382\n",
      "predicted \\ real |\t0\t|\t1\t|\n",
      "       0         |\t63\t|\t3\t|\n",
      "       1         |\t2\t|\t76\t|\n",
      "K= 5\n",
      "++++++++++++++++-+++++++++++++++++++-++-+++++++++-++++++++++++++++++++++++++++++++++++++++++++++++++++++++++++++++++++++++++++++++++++++++++++-+\n",
      "time: 34.124314579659966\n",
      "Accuracy 0.9652777777777778\n",
      "F1 score 0.9681528662420382\n",
      "predicted \\ real |\t0\t|\t1\t|\n",
      "       0         |\t63\t|\t3\t|\n",
      "       1         |\t2\t|\t76\t|\n",
      "K= 7\n",
      "++++++++++++++++-+++++++++++++++++++-++-+++++++++-++++++++++++++++++++++++++++++++++++++++++++++++++++++++++++++++++++++++++++++++++++++++++++-+\n",
      "time: 32.24963194467515\n",
      "Accuracy 0.9652777777777778\n",
      "F1 score 0.9681528662420382\n",
      "predicted \\ real |\t0\t|\t1\t|\n",
      "       0         |\t63\t|\t3\t|\n",
      "       1         |\t2\t|\t76\t|\n",
      "K= 9\n",
      "++++++++++++++++-+++++++++++++++++++-++-+++++++++-++++++++++++++++++++++++++++++++++++++++++++++++++++++++++++++++++++++++++++++++++++++++++++-+\n",
      "time: 30.59479444305503\n",
      "Accuracy 0.9652777777777778\n",
      "F1 score 0.9681528662420382\n",
      "predicted \\ real |\t0\t|\t1\t|\n",
      "       0         |\t63\t|\t3\t|\n",
      "       1         |\t2\t|\t76\t|\n",
      "K= 11\n",
      "++++++++++++++++-+++++++++++++++++++-++-+++++++++-++++++++++++++++++++++++++++++++++++++++++++++++++++++++++++++++++++++++++++++++++++++++++++-+\n",
      "time: 33.53887777969552\n",
      "Accuracy 0.9652777777777778\n",
      "F1 score 0.9681528662420382\n",
      "predicted \\ real |\t0\t|\t1\t|\n",
      "       0         |\t63\t|\t3\t|\n",
      "       1         |\t2\t|\t76\t|\n",
      "K= 13\n",
      "++++++++++++++++-+++++++++++++++++++-++-+++++++++-++++++++++++++++++++++++++++++++++++++++++++++++++++++++++++++++++++++++++++++++++++++++++++-+\n",
      "time: 31.279084027321208\n",
      "Accuracy 0.9652777777777778\n",
      "F1 score 0.9681528662420382\n",
      "predicted \\ real |\t0\t|\t1\t|\n",
      "       0         |\t63\t|\t3\t|\n",
      "       1         |\t2\t|\t76\t|\n"
     ]
    }
   ],
   "source": [
    "import time\n",
    "\n",
    "for k in [1, 5, 7, 9, 11, 13]:\n",
    "    print(\"K=\", k)\n",
    "    true, true0, true1 = 0, 0, 0\n",
    "    tm = 0\n",
    "    for t in test_leaves:\n",
    "        tm -= time.perf_counter()\n",
    "        pci = leaves_classifier.classify_knn(t[0], k=9, attempts=1)\n",
    "        tm += time.perf_counter()\n",
    "        true += pci == t[1]\n",
    "        true0 += pci == t[1] and t[1] == 0\n",
    "        true1 += pci == t[1] and t[1] == 1\n",
    "        print(\"+\" if pci == t[1] else \"-\", end=\"\")\n",
    "        \n",
    "    print(\"\\ntime:\",  1000 * tm / len(test_leaves))\n",
    "\n",
    "    print(\"Accuracy\", true / len(test_leaves))\n",
    "    tp = true1\n",
    "    fn = sum(t[1] for t in test_leaves) - tp\n",
    "    tn = true0\n",
    "    fp = (len(test_leaves) - sum(t[1] for t in test_leaves)) - tn\n",
    "    f1 = tp / (tp + (fn + fp) / 2)\n",
    "    print(\"F1 score\", f1)\n",
    "    print(\"predicted \\ real |\\t0\\t|\\t1\\t|\")\n",
    "    print(f\"       0         |\\t{tn}\\t|\\t{fn}\\t|\")\n",
    "    print(f\"       1         |\\t{fp}\\t|\\t{tp}\\t|\")"
   ]
  }
 ],
 "metadata": {
  "kernelspec": {
   "display_name": "Python 3",
   "language": "python",
   "name": "python3"
  },
  "language_info": {
   "codemirror_mode": {
    "name": "ipython",
    "version": 3
   },
   "file_extension": ".py",
   "mimetype": "text/x-python",
   "name": "python",
   "nbconvert_exporter": "python",
   "pygments_lexer": "ipython3",
   "version": "3.8.5"
  }
 },
 "nbformat": 4,
 "nbformat_minor": 4
}
