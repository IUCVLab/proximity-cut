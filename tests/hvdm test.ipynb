{
 "cells": [
  {
   "cell_type": "code",
   "execution_count": 1,
   "metadata": {},
   "outputs": [],
   "source": [
    "import sys\n",
    "sys.path.append('../modules')\n",
    "from tools.hvdm import get_hvdm"
   ]
  },
  {
   "cell_type": "code",
   "execution_count": 2,
   "metadata": {},
   "outputs": [],
   "source": [
    "dataset = [\n",
    "    (('a', '1', .5, 1), 5),\n",
    "    (('a', '1', .51, 1), 5),\n",
    "    (('b', '1', .56, 4), 4),\n",
    "    (('b', '3', .65, 5), 4),\n",
    "    (('c', '2', .75, -1), 1),\n",
    "    (('c', '2', .75, -.5), 1),\n",
    "]"
   ]
  },
  {
   "cell_type": "code",
   "execution_count": 5,
   "metadata": {},
   "outputs": [
    {
     "name": "stdout",
     "output_type": "stream",
     "text": [
      "size=6, dim=4, classes={1, 4, 5}\n",
      "0.25\n",
      "0.00010000000000000018\n",
      "0.0\n",
      "1.896988888888889\n",
      "18.90848888888889\n",
      "5.863155555555555\n"
     ]
    }
   ],
   "source": [
    "h = get_hvdm(dataset)\n",
    "\n",
    "print(h(dataset[5][0], dataset[4][0]))\n",
    "print(h(dataset[0][0], dataset[1][0]))\n",
    "print(h(dataset[0][0], dataset[0][0]))\n",
    "print(h(dataset[2][0], dataset[3][0]))\n",
    "print(h(dataset[1][0], dataset[3][0]))\n",
    "print(h(dataset[1][0], dataset[5][0]))"
   ]
  }
 ],
 "metadata": {
  "kernelspec": {
   "display_name": "Python 3",
   "language": "python",
   "name": "python3"
  },
  "language_info": {
   "codemirror_mode": {
    "name": "ipython",
    "version": 3
   },
   "file_extension": ".py",
   "mimetype": "text/x-python",
   "name": "python",
   "nbconvert_exporter": "python",
   "pygments_lexer": "ipython3",
   "version": "3.7.4"
  }
 },
 "nbformat": 4,
 "nbformat_minor": 4
}
